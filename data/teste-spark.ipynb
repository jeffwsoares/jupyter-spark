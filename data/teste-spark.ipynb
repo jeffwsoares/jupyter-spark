{
 "cells": [
  {
   "cell_type": "code",
   "execution_count": 3,
   "id": "20ba095a-f244-4097-b69d-8325f928742d",
   "metadata": {},
   "outputs": [],
   "source": [
    "from pyspark.sql import SparkSession\n",
    "spark=SparkSession.builder.master(\"local[*]\").appName(\"thedataengineer.com.br\").getOrCreate()"
   ]
  },
  {
   "cell_type": "code",
   "execution_count": 13,
   "id": "70121d9a-6427-4b80-b71d-f371d2c8c7f8",
   "metadata": {},
   "outputs": [],
   "source": [
    "df = spark.read.option(\"header\",True).csv(\"BRAZIL_CITIES.csv\", sep=\";\")"
   ]
  },
  {
   "cell_type": "code",
   "execution_count": 16,
   "id": "8e69ad05-6b0a-49f4-9460-29bf32310410",
   "metadata": {},
   "outputs": [
    {
     "name": "stdout",
     "output_type": "stream",
     "text": [
      "+-------------------+-----+-------+------------+-----------------+-----------------+-------+-------------+-------------+--------+------+--------+--------+----------+----------+--------+-----------------+----------------------+-----------------+-----+----------+----------------+-------------+------------+------------+-------+------+------------+--------+--------------------+-------------+-------------+---------------+-----------+------------+------------+----------+-----------+--------+----------+-------+----------+--------------------+------------+--------+------+------+------+------+------+------+------+------+------+------+------+------+------+------+------+------+------+------+------+------+------+------+----+-----------+-----------+-------+-------+---------+---------+----+-----------+---------------+----+----+--------+------------+\n",
      "|               CITY|STATE|CAPITAL|IBGE_RES_POP|IBGE_RES_POP_BRAS|IBGE_RES_POP_ESTR|IBGE_DU|IBGE_DU_URBAN|IBGE_DU_RURAL|IBGE_POP|IBGE_1|IBGE_1-4|IBGE_5-9|IBGE_10-14|IBGE_15-59|IBGE_60+|IBGE_PLANTED_AREA|IBGE_CROP_PRODUCTION_$|IDHM Ranking 2010| IDHM|IDHM_Renda|IDHM_Longevidade|IDHM_Educacao|        LONG|         LAT|    ALT|PAY_TV|FIXED_PHONES|    AREA|          REGIAO_TUR|CATEGORIA_TUR|ESTIMATED_POP|    RURAL_URBAN|GVA_AGROPEC|GVA_INDUSTRY|GVA_SERVICES|GVA_PUBLIC| GVA_TOTAL |   TAXES|       GDP|POP_GDP|GDP_CAPITA|            GVA_MAIN|MUN_EXPENDIT|COMP_TOT|COMP_A|COMP_B|COMP_C|COMP_D|COMP_E|COMP_F|COMP_G|COMP_H|COMP_I|COMP_J|COMP_K|COMP_L|COMP_M|COMP_N|COMP_O|COMP_P|COMP_Q|COMP_R|COMP_S|COMP_T|COMP_U|HOTELS|BEDS|Pr_Agencies|Pu_Agencies|Pr_Bank|Pu_Bank|Pr_Assets|Pu_Assets|Cars|Motorcycles|Wheeled_tractor|UBER| MAC|WAL-MART|POST_OFFICES|\n",
      "+-------------------+-----+-------+------------+-----------------+-----------------+-------+-------------+-------------+--------+------+--------+--------+----------+----------+--------+-----------------+----------------------+-----------------+-----+----------+----------------+-------------+------------+------------+-------+------+------------+--------+--------------------+-------------+-------------+---------------+-----------+------------+------------+----------+-----------+--------+----------+-------+----------+--------------------+------------+--------+------+------+------+------+------+------+------+------+------+------+------+------+------+------+------+------+------+------+------+------+------+------+----+-----------+-----------+-------+-------+---------+---------+----+-----------+---------------+----+----+--------+------------+\n",
      "|    Abadia De Goiás|   GO|      0|        6876|             6876|                0|   2137|         1546|          591|    5300|    69|     318|     438|       517|      3542|     416|              319|                  1843|             1689|0.708|     0.687|            0.83|        0.622|-49.44054783|-16.75881189|  893.6|   360|         842|  147.26|                null|         null|         8583|         Urbano|        6.2|    27991.25|    74750.32|  36915.04|   145857.6| 20554.2|    166.41|   8053|  20664.57|     Demais serviços|    28227691|     284|     5|     1|    56|     0|     2|    29|   110|    26|     4|     5|     0|     2|    10|    12|     4|     6|     6|     1|     5|     0|     0|  null|null|       null|       null|   null|   null|     null|     null|2158|       1246|              0|null|null|    null|           1|\n",
      "|Abadia Dos Dourados|   MG|      0|        6704|             6704|                0|   2328|         1481|          847|    4154|    38|     207|     260|       351|      2709|     589|             4479|                 18017|             2207| 0.69|     0.693|           0.839|        0.563|-47.39683244|-18.48756496| 753.12|    77|         296|  881.06| Caminhos Do Cerrado|            D|         6972|Rural Adjacente|   50524.57|     25917.7|    62689.23|  28083.79|  167215.28| 12873.5|    180.09|   7037|   25591.7|     Demais serviços|    17909274|     476|     6|     6|    30|     1|     2|    34|   190|    70|    28|    11|     0|     4|    15|    29|     2|     9|    14|     6|    19|     0|     0|  null|null|       null|       null|   null|   null|     null|     null|2227|       1142|              0|null|null|    null|           1|\n",
      "|          Abadiânia|   GO|      0|       15757|            15609|              148|   4655|         3233|         1422|   10656|   139|     650|     894|      1087|      6896|     990|            10307|                 33085|             2202| 0.69|     0.671|           0.841|        0.579|-48.71881214|-16.18267186|1017.55|   227|         720|1,045.13|Região Turística ...|            C|        19614|Rural Adjacente|      42.84|     16728.3|   138198.58|   63396.2|  261161.91|26822.58| 287984.49|  18427|   15628.4|     Demais serviços|    37513019|     288|     5|     9|    26|     0|     2|     7|   117|    12|    57|     2|     1|     0|     7|    15|     3|    11|     5|     1|     8|     0|     0|     1|  34|          1|          1|      1|      1| 33724584| 67091904|2838|       1426|              0|null|null|    null|           3|\n",
      "|             Abaeté|   MG|      0|       22690|            22690|                0|   7694|         6667|         1027|   18464|   176|     856|    1233|      1539|     11979|    2681|             1862|                  7502|             1994|0.698|      0.72|           0.848|        0.556|-45.44619142|-19.15584769| 644.74|  1230|        1716|1,817.07| Lago De Três Marias|            D|        23223|         Urbano|   113824.6|    31002.62|      172.33|  86081.41|  403241.27|26994.09| 430235.36|  23574|  18250.42|     Demais serviços|        null|     621|    18|     1|    40|     0|     1|    20|   303|    62|    30|     9|     6|     4|    28|    27|     2|    15|    19|     9|    27|     0|     0|  null|null|          2|          2|      2|      2| 44974716|371922572|6928|       2953|              0|null|null|    null|           4|\n",
      "|         Abaetetuba|   PA|      0|      141100|           141040|               60|  31061|        19057|        12004|   82956|  1354|    5567|    7618|      8905|     53516|    5996|            25200|                700872|             3530|0.628|     0.579|           0.798|        0.537|-48.88440382|-1.723469863|  10.12|  3389|        1218|1,610.65|  Araguaia-Tocantins|            D|       156292|         Urbano|  140463.72|       58610|   468128.69|  486872.4| 1154074.81|95180.48|1249255.29| 151934|   8222.36|Administração, de...|        null|     931|     4|     2|    43|     0|     1|    27|   500|    16|    31|     6|     1|     1|    22|    16|     2|   155|    33|    15|    56|     0|     0|  null|null|          2|          4|      2|      4| 76181384|800078483|5277|      25661|              0|null|null|    null|           2|\n",
      "+-------------------+-----+-------+------------+-----------------+-----------------+-------+-------------+-------------+--------+------+--------+--------+----------+----------+--------+-----------------+----------------------+-----------------+-----+----------+----------------+-------------+------------+------------+-------+------+------------+--------+--------------------+-------------+-------------+---------------+-----------+------------+------------+----------+-----------+--------+----------+-------+----------+--------------------+------------+--------+------+------+------+------+------+------+------+------+------+------+------+------+------+------+------+------+------+------+------+------+------+------+----+-----------+-----------+-------+-------+---------+---------+----+-----------+---------------+----+----+--------+------------+\n",
      "only showing top 5 rows\n",
      "\n"
     ]
    }
   ],
   "source": [
    "df.show(5)"
   ]
  },
  {
   "cell_type": "code",
   "execution_count": 19,
   "id": "a46c553e-d925-41f5-b50b-3f3016d17c70",
   "metadata": {},
   "outputs": [
    {
     "name": "stdout",
     "output_type": "stream",
     "text": [
      "+----------------+-----+-------+------------+-----------------+-----------------+-------+-------------+-------------+--------+------+--------+--------+----------+----------+--------+-----------------+----------------------+-----------------+-----+----------+----------------+-------------+------------+------------+------+------+------------+------+--------------------+-------------+-------------+--------------------+-----------+------------+------------+----------+-----------+--------+----------+-------+----------+--------------------+------------+--------+------+------+------+------+------+------+------+------+------+------+------+------+------+------+------+------+------+------+------+------+------+------+----+-----------+-----------+-------+-------+---------+---------+-----+-----------+---------------+----+----+--------+------------+\n",
      "|            CITY|STATE|CAPITAL|IBGE_RES_POP|IBGE_RES_POP_BRAS|IBGE_RES_POP_ESTR|IBGE_DU|IBGE_DU_URBAN|IBGE_DU_RURAL|IBGE_POP|IBGE_1|IBGE_1-4|IBGE_5-9|IBGE_10-14|IBGE_15-59|IBGE_60+|IBGE_PLANTED_AREA|IBGE_CROP_PRODUCTION_$|IDHM Ranking 2010| IDHM|IDHM_Renda|IDHM_Longevidade|IDHM_Educacao|        LONG|         LAT|   ALT|PAY_TV|FIXED_PHONES|  AREA|          REGIAO_TUR|CATEGORIA_TUR|ESTIMATED_POP|         RURAL_URBAN|GVA_AGROPEC|GVA_INDUSTRY|GVA_SERVICES|GVA_PUBLIC| GVA_TOTAL |   TAXES|       GDP|POP_GDP|GDP_CAPITA|            GVA_MAIN|MUN_EXPENDIT|COMP_TOT|COMP_A|COMP_B|COMP_C|COMP_D|COMP_E|COMP_F|COMP_G|COMP_H|COMP_I|COMP_J|COMP_K|COMP_L|COMP_M|COMP_N|COMP_O|COMP_P|COMP_Q|COMP_R|COMP_S|COMP_T|COMP_U|HOTELS|BEDS|Pr_Agencies|Pu_Agencies|Pr_Bank|Pu_Bank|Pr_Assets|Pu_Assets| Cars|Motorcycles|Wheeled_tractor|UBER| MAC|WAL-MART|POST_OFFICES|\n",
      "+----------------+-----+-------+------------+-----------------+-----------------+-------+-------------+-------------+--------+------+--------+--------+----------+----------+--------+-----------------+----------------------+-----------------+-----+----------+----------------+-------------+------------+------------+------+------+------------+------+--------------------+-------------+-------------+--------------------+-----------+------------+------------+----------+-----------+--------+----------+-------+----------+--------------------+------------+--------+------+------+------+------+------+------+------+------+------+------+------+------+------+------+------+------+------+------+------+------+------+------+----+-----------+-----------+-------+-------+---------+---------+-----+-----------+---------------+----+----+--------+------------+\n",
      "|      Adamantina|   SP|      0|       33797|            33769|               28|  11335|        10777|          558|   31695|   333|    1282|    1803|      2089|     20651|    5537|            14699|                 69644|               69| 0.79|     0.772|           0.852|         0.75|-51.07336475|-21.68831148|451.12|  1354|        7648|411.99|      Águas Do Oeste|            C|        35023|              Urbano|   41899.77|   298402.33|   587636.55| 151089.03| 1079027.68|   73.41|1152441.22|  35094|   32838.7|     Demais serviços|   115703289|    1726|   272|     0|   102|     0|     4|    35|   663|   102|    99|    41|    21|    28|    75|    79|     2|    32|    65|    20|    86|     0|     0|  null|null|          3|          2|      3|      2|526179392|823567347|14851|       6481|              4|null|null|    null|           1|\n",
      "|          Adolfo|   SP|      0|        3557|             3557|                0|   1200|         1081|          119|    3200|    30|     149|     206|       234|      2079|     502|             9755|                 67479|             1044| 0.73|      0.71|           0.844|        0.648|-49.64972143|-21.23272978|425.39|   520|         271|211.06|    Coração Do Tietê|            D|         3571|     Rural Adjacente|   29090.08|        6.14|       27.72|  21018.78|      83.98|    2.49|     86.47|   3616|  23911.98|Agricultura, incl...|        null|      81|    10|     2|     3|     0|     0|     2|    33|     5|     4|     0|     0|     0|     2|     2|     2|     3|     1|     3|     9|     0|     0|  null|null|          1|          0|      1|      0| 32631770|        0| 1394|        401|              0|null|null|    null|           1|\n",
      "|           Aguaí|   SP|      0|       32148|            32126|               22|   9899|         8970|          929|   28182|   363|    1569|    1943|      2273|     18608|    3426|            31346|                223900|             1460|0.715|     0.703|           0.858|        0.606|-46.97969311|  -22.059684|662.48|  1389|        5019|474.55|                null|         null|        35954|              Urbano|  115600.38|   146491.98|   307155.81| 117822.49|     687.07|77216.87| 764287.53|  35189|   21719.5|     Demais serviços|        null|     799|   149|     9|    54|     0|     3|    21|   333|    44|    51|     8|     2|     5|    21|    35|     2|    12|    21|    10|    19|     0|     0|  null|null|          3|          2|      3|      2|235543694|198861114|11167|       5754|              3|null|null|    null|           1|\n",
      "|  Águas Da Prata|   SP|      0|        7584|             7549|               35|   2515|         2265|          250|    6695|    84|     278|     389|       436|      4268|    1240|             1387|                  8630|              124| 0.78|      0.75|           0.886|        0.716|-46.71676671|  -21.934829|832.91|   606|        1803|142.67|    Mogiana Paulista|            D|         8137|              Urbano|   17026.53|    16235.66|     69097.9|  30948.74|  133308.83| 9345.48| 142654.32|   8065|  17688.07|     Demais serviços|    22737457|     212|    48|     0|    18|     0|     0|     9|    63|     7|    21|     7|     0|     3|     6|    10|     3|     3|     2|     4|     8|     0|     0|  null|null|          2|          1|      2|      1| 61947294| 21858555| 2816|        945|              0|null|null|    null|           2|\n",
      "|Águas De Lindóia|   SP|      0|       17266|            17206|               60|   5597|         5544|           53|    6886|    71|     293|     405|       482|      4411|    1224|              474|                  6287|              661|0.745|     0.725|           0.846|        0.675|-46.63177884|-22.47382204|893.17|  2522|        4393| 60.13|Águas E Flores Pa...|            B|        18599|Intermediário Adj...|    5835.33|    63398.24|   283169.22|  72227.49|  424630.29|   30.64| 455273.81|  18412|  24727.02|     Demais serviços|        null|     881|    11|     0|   168|     0|     1|    41|   328|    11|    92|     5|     8|     3|    24|    96|     2|    23|    28|    10|    30|     0|     0|     4| 723|          3|          2|      3|      2|200253763|299106456| 7566|       3644|              0|null|null|    null|           1|\n",
      "+----------------+-----+-------+------------+-----------------+-----------------+-------+-------------+-------------+--------+------+--------+--------+----------+----------+--------+-----------------+----------------------+-----------------+-----+----------+----------------+-------------+------------+------------+------+------+------------+------+--------------------+-------------+-------------+--------------------+-----------+------------+------------+----------+-----------+--------+----------+-------+----------+--------------------+------------+--------+------+------+------+------+------+------+------+------+------+------+------+------+------+------+------+------+------+------+------+------+------+------+----+-----------+-----------+-------+-------+---------+---------+-----+-----------+---------------+----+----+--------+------------+\n",
      "only showing top 5 rows\n",
      "\n"
     ]
    }
   ],
   "source": [
    "df.filter(df.STATE == 'SP').show(5)"
   ]
  },
  {
   "cell_type": "code",
   "execution_count": 48,
   "id": "551e6c01-f175-4f8e-ab83-6ad585b8f41c",
   "metadata": {},
   "outputs": [],
   "source": [
    "df.filter(df.STATE == 'SP') \\\n",
    "    .withColumnRenamed(\"IBGE_60+\",\"IBGE_60\") \\\n",
    "    .withColumnRenamed(\"IBGE_CROP_PRODUCTION_$\",\"IBGE_CROP_PRODUCTION\") \\\n",
    "    .withColumnRenamed(\"IDHM Ranking 2010\",\"IDHM_Ranking_2010\") \\\n",
    "    .withColumnRenamed(\" GVA_TOTAL \",\"GVA_TOTAL\") \\\n",
    "    .write.mode(\"overwrite\").parquet(\"sao_paulo.parquet\") \n",
    "\n",
    "df.filter(df.STATE == 'SP') \\\n",
    "    .withColumnRenamed(\"IBGE_60+\",\"IBGE_60\") \\\n",
    "    .withColumnRenamed(\"IBGE_CROP_PRODUCTION_$\",\"IBGE_CROP_PRODUCTION\") \\\n",
    "    .withColumnRenamed(\"IDHM Ranking 2010\",\"IDHM_Ranking_2010\") \\\n",
    "    .withColumnRenamed(\" GVA_TOTAL \",\"GVA_TOTAL\") \\\n",
    "    .write.mode(\"overwrite\").save(\"sao_paulo.orc\")\n",
    "\n",
    "df.filter(df.STATE == 'SP') \\\n",
    "    .withColumnRenamed(\"IBGE_60+\",\"IBGE_60\") \\\n",
    "    .withColumnRenamed(\"IBGE_CROP_PRODUCTION_$\",\"IBGE_CROP_PRODUCTION\") \\\n",
    "    .withColumnRenamed(\"IDHM Ranking 2010\",\"IDHM_Ranking_2010\") \\\n",
    "    .withColumnRenamed(\" GVA_TOTAL \",\"GVA_TOTAL\") \\\n",
    "    .write.mode(\"overwrite\").csv(\"sao_paulo.csv\")"
   ]
  },
  {
   "cell_type": "code",
   "execution_count": 43,
   "id": "7d7b4c5c-cb8f-4543-85dd-14254d29f469",
   "metadata": {},
   "outputs": [
    {
     "name": "stdout",
     "output_type": "stream",
     "text": [
      "root\n",
      " |-- CITY: string (nullable = true)\n",
      " |-- STATE: string (nullable = true)\n",
      " |-- CAPITAL: string (nullable = true)\n",
      " |-- IBGE_RES_POP: string (nullable = true)\n",
      " |-- IBGE_RES_POP_BRAS: string (nullable = true)\n",
      " |-- IBGE_RES_POP_ESTR: string (nullable = true)\n",
      " |-- IBGE_DU: string (nullable = true)\n",
      " |-- IBGE_DU_URBAN: string (nullable = true)\n",
      " |-- IBGE_DU_RURAL: string (nullable = true)\n",
      " |-- IBGE_POP: string (nullable = true)\n",
      " |-- IBGE_1: string (nullable = true)\n",
      " |-- IBGE_1-4: string (nullable = true)\n",
      " |-- IBGE_5-9: string (nullable = true)\n",
      " |-- IBGE_10-14: string (nullable = true)\n",
      " |-- IBGE_15-59: string (nullable = true)\n",
      " |-- IBGE_60+: string (nullable = true)\n",
      " |-- IBGE_PLANTED_AREA: string (nullable = true)\n",
      " |-- IBGE_CROP_PRODUCTION_$: string (nullable = true)\n",
      " |-- IDHM Ranking 2010: string (nullable = true)\n",
      " |-- IDHM: string (nullable = true)\n",
      " |-- IDHM_Renda: string (nullable = true)\n",
      " |-- IDHM_Longevidade: string (nullable = true)\n",
      " |-- IDHM_Educacao: string (nullable = true)\n",
      " |-- LONG: string (nullable = true)\n",
      " |-- LAT: string (nullable = true)\n",
      " |-- ALT: string (nullable = true)\n",
      " |-- PAY_TV: string (nullable = true)\n",
      " |-- FIXED_PHONES: string (nullable = true)\n",
      " |-- AREA: string (nullable = true)\n",
      " |-- REGIAO_TUR: string (nullable = true)\n",
      " |-- CATEGORIA_TUR: string (nullable = true)\n",
      " |-- ESTIMATED_POP: string (nullable = true)\n",
      " |-- RURAL_URBAN: string (nullable = true)\n",
      " |-- GVA_AGROPEC: string (nullable = true)\n",
      " |-- GVA_INDUSTRY: string (nullable = true)\n",
      " |-- GVA_SERVICES: string (nullable = true)\n",
      " |-- GVA_PUBLIC: string (nullable = true)\n",
      " |--  GVA_TOTAL : string (nullable = true)\n",
      " |-- TAXES: string (nullable = true)\n",
      " |-- GDP: string (nullable = true)\n",
      " |-- POP_GDP: string (nullable = true)\n",
      " |-- GDP_CAPITA: string (nullable = true)\n",
      " |-- GVA_MAIN: string (nullable = true)\n",
      " |-- MUN_EXPENDIT: string (nullable = true)\n",
      " |-- COMP_TOT: string (nullable = true)\n",
      " |-- COMP_A: string (nullable = true)\n",
      " |-- COMP_B: string (nullable = true)\n",
      " |-- COMP_C: string (nullable = true)\n",
      " |-- COMP_D: string (nullable = true)\n",
      " |-- COMP_E: string (nullable = true)\n",
      " |-- COMP_F: string (nullable = true)\n",
      " |-- COMP_G: string (nullable = true)\n",
      " |-- COMP_H: string (nullable = true)\n",
      " |-- COMP_I: string (nullable = true)\n",
      " |-- COMP_J: string (nullable = true)\n",
      " |-- COMP_K: string (nullable = true)\n",
      " |-- COMP_L: string (nullable = true)\n",
      " |-- COMP_M: string (nullable = true)\n",
      " |-- COMP_N: string (nullable = true)\n",
      " |-- COMP_O: string (nullable = true)\n",
      " |-- COMP_P: string (nullable = true)\n",
      " |-- COMP_Q: string (nullable = true)\n",
      " |-- COMP_R: string (nullable = true)\n",
      " |-- COMP_S: string (nullable = true)\n",
      " |-- COMP_T: string (nullable = true)\n",
      " |-- COMP_U: string (nullable = true)\n",
      " |-- HOTELS: string (nullable = true)\n",
      " |-- BEDS: string (nullable = true)\n",
      " |-- Pr_Agencies: string (nullable = true)\n",
      " |-- Pu_Agencies: string (nullable = true)\n",
      " |-- Pr_Bank: string (nullable = true)\n",
      " |-- Pu_Bank: string (nullable = true)\n",
      " |-- Pr_Assets: string (nullable = true)\n",
      " |-- Pu_Assets: string (nullable = true)\n",
      " |-- Cars: string (nullable = true)\n",
      " |-- Motorcycles: string (nullable = true)\n",
      " |-- Wheeled_tractor: string (nullable = true)\n",
      " |-- UBER: string (nullable = true)\n",
      " |-- MAC: string (nullable = true)\n",
      " |-- WAL-MART: string (nullable = true)\n",
      " |-- POST_OFFICES: string (nullable = true)\n",
      "\n"
     ]
    }
   ],
   "source": [
    "df.printSchema()"
   ]
  },
  {
   "cell_type": "code",
   "execution_count": null,
   "id": "f280efd1-b56e-4d71-a710-6300aa9ab6c9",
   "metadata": {},
   "outputs": [],
   "source": []
  }
 ],
 "metadata": {
  "kernelspec": {
   "display_name": "Python 3",
   "language": "python",
   "name": "python3"
  },
  "language_info": {
   "codemirror_mode": {
    "name": "ipython",
    "version": 3
   },
   "file_extension": ".py",
   "mimetype": "text/x-python",
   "name": "python",
   "nbconvert_exporter": "python",
   "pygments_lexer": "ipython3",
   "version": "3.6.9"
  }
 },
 "nbformat": 4,
 "nbformat_minor": 5
}
